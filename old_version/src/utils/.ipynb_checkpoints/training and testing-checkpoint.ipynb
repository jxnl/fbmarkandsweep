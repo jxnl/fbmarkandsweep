{
 "metadata": {
  "name": "",
  "signature": "sha256:3964f0384efbb51d079b29654e6cf21b15a7c247001069ab00e8ffc838a314d7"
 },
 "nbformat": 3,
 "nbformat_minor": 0,
 "worksheets": [
  {
   "cells": [
    {
     "cell_type": "heading",
     "level": 1,
     "metadata": {},
     "source": [
      "Training and Testing"
     ]
    },
    {
     "cell_type": "code",
     "collapsed": false,
     "input": [
      "import pandas as pd\n",
      "from sklearn import svm\n",
      "import numpy as np\n",
      "import features as ft"
     ],
     "language": "python",
     "metadata": {},
     "outputs": [],
     "prompt_number": 1
    },
    {
     "cell_type": "code",
     "collapsed": false,
     "input": [
      "def obtainFeatures(data):\n",
      "    f1 = ft.countURL(data)\n",
      "    f2 = ft.countPhones(data)\n",
      "    f3 = ft.numberOfSensitiveWords(data)\n",
      "    f4 = ft.capitalizedWordCount(data)\n",
      "    f5 = ft.punctuationRatio(data)\n",
      "    return [f1, f2, f3, f4]"
     ],
     "language": "python",
     "metadata": {},
     "outputs": [],
     "prompt_number": 9
    },
    {
     "cell_type": "code",
     "collapsed": false,
     "input": [
      "training_data = pd.DataFrame.from_csv(\"spam_train.csv\")\n",
      "y = list(training_data.spam)\n",
      "X = np.ndarray((len(training_data.spam), 4))\n",
      "\n",
      "for i, data in enumerate(training_data.contents):\n",
      "    X[i] = np.array(obtainFeatures(data))"
     ],
     "language": "python",
     "metadata": {},
     "outputs": [],
     "prompt_number": 10
    },
    {
     "cell_type": "code",
     "collapsed": false,
     "input": [
      "testing_data = pd.DataFrame.from_csv(\"spam_test.csv\")\n",
      "\n",
      "y_test = list(testing_data.spam)\n",
      "X_test = np.ndarray((len(testing_data.spam), 4))\n",
      "\n",
      "for i, data in enumerate(testing_data.contents):\n",
      "    X_test[i] = np.array(obtainFeatures(data))"
     ],
     "language": "python",
     "metadata": {},
     "outputs": [],
     "prompt_number": 11
    },
    {
     "cell_type": "code",
     "collapsed": false,
     "input": [
      "from sklearn import svm\n",
      "\n",
      "clf = svm.SVC(class_weight='auto')\n",
      "clf.fit(X, y)"
     ],
     "language": "python",
     "metadata": {},
     "outputs": [
      {
       "metadata": {},
       "output_type": "pyout",
       "prompt_number": 12,
       "text": [
        "SVC(C=1.0, cache_size=200, class_weight='auto', coef0=0.0, degree=3,\n",
        "  gamma=0.0, kernel='rbf', max_iter=-1, probability=False,\n",
        "  random_state=None, shrinking=True, tol=0.001, verbose=False)"
       ]
      }
     ],
     "prompt_number": 12
    },
    {
     "cell_type": "code",
     "collapsed": false,
     "input": [
      "clf.score(X_test, y_test)"
     ],
     "language": "python",
     "metadata": {},
     "outputs": [
      {
       "metadata": {},
       "output_type": "pyout",
       "prompt_number": 16,
       "text": [
        "0.74235807860262004"
       ]
      }
     ],
     "prompt_number": 16
    },
    {
     "cell_type": "code",
     "collapsed": false,
     "input": [
      "clf.predict(obtainFeatures(\"\"\"\n",
      "\n",
      "LOAN OFFER BETWEEN PARTICULAR\n",
      "Hello\n",
      "Contact me by E-mail for more information: homerdupont@hotmail.fr\n",
      "I am an individual financial experts able to make you a\n",
      "loan ranging from \u20ac 2000 to \u20ac 5.000.000 for a rate of 3% at any\n",
      "serious and honest person able to repay and with conditions that you\n",
      "make your life easier. Here are the areas in which I can you\n",
      "Help:\n",
      "* Financial\n",
      "* Home loan\n",
      "*Investment loan\n",
      "* Auto loan\n",
      "* Debt consolidation\n",
      "* Line of credit\n",
      "* Second mortgage\n",
      "* Redemption credit\n",
      "* Personal loan\n",
      "You are registered, Bank banned and you do not have the favor of\n",
      "banks or better you have a project and need financing, a\n",
      "bad record of credit or need money to pay bills,\n",
      "Fund to invest in companies. Then if you need to\n",
      "loan of money do not hesitate to contact me for more information on my\n",
      "well conditions.\n",
      "Please fast answer me by mail: \n",
      "homerdupont@Hotmail.fr\n",
      "May God bless you! \n",
      "Kind regards\n",
      "\"\"\"))"
     ],
     "language": "python",
     "metadata": {},
     "outputs": [
      {
       "metadata": {},
       "output_type": "pyout",
       "prompt_number": 19,
       "text": [
        "array([1])"
       ]
      }
     ],
     "prompt_number": 19
    },
    {
     "cell_type": "code",
     "collapsed": false,
     "input": [],
     "language": "python",
     "metadata": {},
     "outputs": [],
     "prompt_number": 6
    },
    {
     "cell_type": "code",
     "collapsed": false,
     "input": [],
     "language": "python",
     "metadata": {},
     "outputs": [],
     "prompt_number": 6
    },
    {
     "cell_type": "code",
     "collapsed": false,
     "input": [],
     "language": "python",
     "metadata": {},
     "outputs": []
    }
   ],
   "metadata": {}
  }
 ]
}