{
 "metadata": {
  "name": ""
 },
 "nbformat": 3,
 "nbformat_minor": 0,
 "worksheets": [
  {
   "cells": [
    {
     "cell_type": "code",
     "collapsed": false,
     "input": [
      "import pandas as pd\n",
      "import random"
     ],
     "language": "python",
     "metadata": {},
     "outputs": [],
     "prompt_number": 57
    },
    {
     "cell_type": "code",
     "collapsed": false,
     "input": [
      "ddhh = pd.read_csv(\"hh.csv\", header=None, names=['hh','content'])\n",
      "ddoo = pd.read_csv(\"other.csv\", error_bad_lines=False, header=None, names=['hh', 'content'])"
     ],
     "language": "python",
     "metadata": {},
     "outputs": [],
     "prompt_number": 58
    },
    {
     "cell_type": "code",
     "collapsed": false,
     "input": [
      "raw_data = ddhh.append(ddoo)"
     ],
     "language": "python",
     "metadata": {},
     "outputs": [],
     "prompt_number": 59
    },
    {
     "cell_type": "code",
     "collapsed": false,
     "input": [
      "raw_data.head()"
     ],
     "language": "python",
     "metadata": {},
     "outputs": [
      {
       "output_type": "stream",
       "stream": "stderr",
       "text": [
        "/usr/local/lib/python2.7/site-packages/pandas/core/config.py:570: DeprecationWarning: height has been deprecated.\n",
        "\n",
        "  warnings.warn(d.msg, DeprecationWarning)\n",
        "/usr/local/lib/python2.7/site-packages/pandas/core/config.py:570: DeprecationWarning: height has been deprecated.\n",
        "\n",
        "  warnings.warn(d.msg, DeprecationWarning)\n"
       ]
      },
      {
       "html": [
        "<div style=\"max-height:1000px;max-width:1500px;overflow:auto;\">\n",
        "<table border=\"1\" class=\"dataframe\">\n",
        "  <thead>\n",
        "    <tr style=\"text-align: right;\">\n",
        "      <th></th>\n",
        "      <th>hh</th>\n",
        "      <th>content</th>\n",
        "    </tr>\n",
        "  </thead>\n",
        "  <tbody>\n",
        "    <tr>\n",
        "      <th>0</th>\n",
        "      <td> 1</td>\n",
        "      <td> I want your brutally honest feedback on these ...</td>\n",
        "    </tr>\n",
        "    <tr>\n",
        "      <th>1</th>\n",
        "      <td> 1</td>\n",
        "      <td> Chillin at PennApps. Over 12 hours in, my part...</td>\n",
        "    </tr>\n",
        "    <tr>\n",
        "      <th>2</th>\n",
        "      <td> 1</td>\n",
        "      <td>    But seriously, we do need more female hackers.</td>\n",
        "    </tr>\n",
        "    <tr>\n",
        "      <th>3</th>\n",
        "      <td> 1</td>\n",
        "      <td> Coming this friday http://www.reddit.com/r/app...</td>\n",
        "    </tr>\n",
        "    <tr>\n",
        "      <th>4</th>\n",
        "      <td> 1</td>\n",
        "      <td> Anyone interested in going to the Westfield Ha...</td>\n",
        "    </tr>\n",
        "  </tbody>\n",
        "</table>\n",
        "</div>"
       ],
       "metadata": {},
       "output_type": "pyout",
       "prompt_number": 60,
       "text": [
        "   hh                                            content\n",
        "0   1  I want your brutally honest feedback on these ...\n",
        "1   1  Chillin at PennApps. Over 12 hours in, my part...\n",
        "2   1     But seriously, we do need more female hackers.\n",
        "3   1  Coming this friday http://www.reddit.com/r/app...\n",
        "4   1  Anyone interested in going to the Westfield Ha..."
       ]
      }
     ],
     "prompt_number": 60
    },
    {
     "cell_type": "code",
     "collapsed": false,
     "input": [
      "rows = random.sample(raw_data.index, 400)\n",
      "print rows"
     ],
     "language": "python",
     "metadata": {},
     "outputs": [
      {
       "output_type": "stream",
       "stream": "stdout",
       "text": [
        "[647, 23, 90, 203, 420, 285, 274, 97, 86, 472, 659, 208, 669, 485, 469, 88, 632, 506, 141, 504, 388, 403, 368, 155, 140, 162, 638, 581, 128, 170, 295, 673, 320, 414, 511, 282, 275, 48, 30, 441, 567, 13, 217, 422, 265, 518, 300, 118, 105, 11, 196, 3, 525, 216, 306, 280, 521, 404, 153, 361, 123, 425, 78, 557, 681, 200, 561, 32, 235, 25, 533, 1, 349, 93, 148, 316, 98, 68, 6, 466, 479, 267, 549, 360, 142, 377, 348, 87, 53, 558, 106, 247, 230, 262, 471, 278, 75, 650, 113, 73, 408, 130, 224, 538, 663, 108, 205, 260, 133, 353, 192, 20, 336, 671, 92, 596, 54, 132, 270, 60, 587, 611, 672, 38, 26, 311, 99, 94, 376, 151, 233, 677, 445, 242, 395, 52, 335, 428, 215, 510, 539, 46, 88, 307, 519, 41, 190, 602, 662, 21, 334, 73, 76, 119, 396, 440, 80, 218, 363, 575, 9, 372, 427, 325, 594, 4, 595, 160, 249, 674, 35, 63, 268, 546, 600, 174, 382, 436, 69, 531, 107, 5, 14, 565, 257, 534, 37, 83, 143, 92, 624, 79, 527, 684, 387, 178, 344, 116, 183, 612, 625, 62, 574, 231, 379, 7, 446, 548, 253, 327, 373, 46, 292, 29, 656, 264, 204, 144, 675, 14, 60, 294, 442, 501, 95, 51, 39, 432, 315, 168, 416, 95, 273, 391, 245, 43, 171, 125, 535, 613, 161, 499, 406, 540, 32, 84, 33, 28, 526, 42, 22, 299, 9, 497, 429, 74, 269, 191, 74, 147, 241, 34, 502, 61, 219, 59, 529, 559, 42, 375, 578, 126, 668, 175, 621, 517, 15, 390, 305, 16, 45, 524, 313, 573, 560, 48, 45, 173, 680, 598, 424, 333, 617, 359, 283, 597, 290, 69, 480, 410, 152, 137, 523, 323, 55, 91, 679, 177, 76, 304, 72, 96, 483, 478, 239, 80, 138, 157, 115, 243, 70, 354, 99, 166, 277, 4, 421, 640, 189, 47, 481, 83, 547, 58, 3, 24, 415, 201, 39, 512, 288, 210, 599, 164, 18, 43, 244, 127, 89, 646, 5, 98, 644, 601, 90, 618, 670, 358, 356, 423, 16, 194, 49, 605, 20, 678, 552, 186, 169, 40, 67, 589, 47, 52, 426, 281, 101, 179, 44, 254, 30, 401, 104, 310, 103, 135, 13, 31, 474, 296, 139, 8, 641, 258, 197, 154, 449, 413, 131, 583]\n"
       ]
      }
     ],
     "prompt_number": 77
    },
    {
     "cell_type": "code",
     "collapsed": false,
     "input": [
      "topic_train = raw_data.ix[rows]\n",
      "topic_test = raw_data.drop(rows)"
     ],
     "language": "python",
     "metadata": {},
     "outputs": [],
     "prompt_number": 78
    },
    {
     "cell_type": "code",
     "collapsed": false,
     "input": [
      "topic_train.head()"
     ],
     "language": "python",
     "metadata": {},
     "outputs": [
      {
       "output_type": "stream",
       "stream": "stderr",
       "text": [
        "/usr/local/lib/python2.7/site-packages/pandas/core/config.py:570: DeprecationWarning: height has been deprecated.\n",
        "\n",
        "  warnings.warn(d.msg, DeprecationWarning)\n",
        "/usr/local/lib/python2.7/site-packages/pandas/core/config.py:570: DeprecationWarning: height has been deprecated.\n",
        "\n",
        "  warnings.warn(d.msg, DeprecationWarning)\n"
       ]
      },
      {
       "html": [
        "<div style=\"max-height:1000px;max-width:1500px;overflow:auto;\">\n",
        "<table border=\"1\" class=\"dataframe\">\n",
        "  <thead>\n",
        "    <tr style=\"text-align: right;\">\n",
        "      <th></th>\n",
        "      <th>hh</th>\n",
        "      <th>content</th>\n",
        "    </tr>\n",
        "  </thead>\n",
        "  <tbody>\n",
        "    <tr>\n",
        "      <th>260</th>\n",
        "      <td> 0</td>\n",
        "      <td> Tonight! SLC eviction and a proposal to grant ...</td>\n",
        "    </tr>\n",
        "    <tr>\n",
        "      <th>501</th>\n",
        "      <td> 0</td>\n",
        "      <td> Tmrw MAKJ is coming to Pearl! Being the only e...</td>\n",
        "    </tr>\n",
        "    <tr>\n",
        "      <th>21 </th>\n",
        "      <td> 1</td>\n",
        "      <td> A constant struggle nowadays is finding good h...</td>\n",
        "    </tr>\n",
        "    <tr>\n",
        "      <th>21 </th>\n",
        "      <td> 0</td>\n",
        "      <td> For those of us in EM HA 2 is a good way to st...</td>\n",
        "    </tr>\n",
        "    <tr>\n",
        "      <th>141</th>\n",
        "      <td> 0</td>\n",
        "      <td> Yo, just look at the price of this, then look ...</td>\n",
        "    </tr>\n",
        "  </tbody>\n",
        "</table>\n",
        "</div>"
       ],
       "metadata": {},
       "output_type": "pyout",
       "prompt_number": 74,
       "text": [
        "     hh                                            content\n",
        "260   0  Tonight! SLC eviction and a proposal to grant ...\n",
        "501   0  Tmrw MAKJ is coming to Pearl! Being the only e...\n",
        "21    1  A constant struggle nowadays is finding good h...\n",
        "21    0  For those of us in EM HA 2 is a good way to st...\n",
        "141   0  Yo, just look at the price of this, then look ..."
       ]
      }
     ],
     "prompt_number": 74
    },
    {
     "cell_type": "code",
     "collapsed": false,
     "input": [
      "with open(\"train_topic.csv\", 'w+') as train:\n",
      "    topic_train.to_csv(train)"
     ],
     "language": "python",
     "metadata": {},
     "outputs": [],
     "prompt_number": 79
    },
    {
     "cell_type": "code",
     "collapsed": false,
     "input": [
      "with open(\"test_topic.csv\", 'w+') as test:\n",
      "    topic_test.to_csv(test)"
     ],
     "language": "python",
     "metadata": {},
     "outputs": [],
     "prompt_number": 81
    },
    {
     "cell_type": "code",
     "collapsed": false,
     "input": [],
     "language": "python",
     "metadata": {},
     "outputs": []
    }
   ],
   "metadata": {}
  }
 ]
}