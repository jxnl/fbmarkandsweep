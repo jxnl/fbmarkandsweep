{
 "metadata": {
  "name": "",
  "signature": "sha256:b596c259da4ac35c21be34d8ba0f518f3cd29c8c25d90c2b79161a920b02cbc2"
 },
 "nbformat": 3,
 "nbformat_minor": 0,
 "worksheets": [
  {
   "cells": [
    {
     "cell_type": "heading",
     "level": 1,
     "metadata": {},
     "source": [
      "Joining both data files from Sys"
     ]
    },
    {
     "cell_type": "code",
     "collapsed": false,
     "input": [
      "import pandas as pd"
     ],
     "language": "python",
     "metadata": {},
     "outputs": [],
     "prompt_number": 1
    },
    {
     "cell_type": "code",
     "collapsed": false,
     "input": [
      "dt1 = pd.DataFrame.from_csv(\"features_All_5999.csv\", index_col=\"bid\")\n",
      "data_labels = pd.DataFrame(data=dt1.spam)\n",
      "data_content = pd.DataFrame(data=dt1.contents)\n",
      "dt2 = pd.DataFrame.from_csv(\"features_All_6179.csv\", index_col=\"bid\")\n",
      "data_labels = data_labels.append(pd.DataFrame(dt2.spam))\n",
      "data_content = data_content.append(pd.DataFrame(dt2.contents))\n",
      "raw_data = data_labels.join(data_content)"
     ],
     "language": "python",
     "metadata": {},
     "outputs": [],
     "prompt_number": 13
    },
    {
     "cell_type": "code",
     "collapsed": false,
     "input": [
      "raw_data.head()"
     ],
     "language": "python",
     "metadata": {},
     "outputs": [
      {
       "html": [
        "<div style=\"max-height:1000px;max-width:1500px;overflow:auto;\">\n",
        "<table border=\"1\" class=\"dataframe\">\n",
        "  <thead>\n",
        "    <tr style=\"text-align: right;\">\n",
        "      <th></th>\n",
        "      <th>spam</th>\n",
        "      <th>contents</th>\n",
        "    </tr>\n",
        "    <tr>\n",
        "      <th>bid</th>\n",
        "      <th></th>\n",
        "      <th></th>\n",
        "    </tr>\n",
        "  </thead>\n",
        "  <tbody>\n",
        "    <tr>\n",
        "      <th>68858504</th>\n",
        "      <td> 1</td>\n",
        "      <td> Handbags for sale, DKNY bag \u00a345 ONO, DKNY purs...</td>\n",
        "    </tr>\n",
        "    <tr>\n",
        "      <th>68858503</th>\n",
        "      <td> 1</td>\n",
        "      <td> Handbags for sale, DKNY bag \u00a345 ONO, DKNY purs...</td>\n",
        "    </tr>\n",
        "    <tr>\n",
        "      <th>68858474</th>\n",
        "      <td> 1</td>\n",
        "      <td> Handbags for sale, DKNY bag \u00a345 ONO, DKNY purs...</td>\n",
        "    </tr>\n",
        "    <tr>\n",
        "      <th>68858473</th>\n",
        "      <td> 1</td>\n",
        "      <td> Handbags for sale, DKNY bag \u00a345 ONO, DKNY purs...</td>\n",
        "    </tr>\n",
        "    <tr>\n",
        "      <th>68858442</th>\n",
        "      <td> 1</td>\n",
        "      <td> Burberry \\\\'Colour Check\\\\' Square Scarf??#If ...</td>\n",
        "    </tr>\n",
        "  </tbody>\n",
        "</table>\n",
        "</div>"
       ],
       "metadata": {},
       "output_type": "pyout",
       "prompt_number": 47,
       "text": [
        "          spam                                           contents\n",
        "bid                                                              \n",
        "68858504     1  Handbags for sale, DKNY bag \u00a345 ONO, DKNY purs...\n",
        "68858503     1  Handbags for sale, DKNY bag \u00a345 ONO, DKNY purs...\n",
        "68858474     1  Handbags for sale, DKNY bag \u00a345 ONO, DKNY purs...\n",
        "68858473     1  Handbags for sale, DKNY bag \u00a345 ONO, DKNY purs...\n",
        "68858442     1  Burberry \\\\'Colour Check\\\\' Square Scarf??#If ..."
       ]
      }
     ],
     "prompt_number": 47
    },
    {
     "cell_type": "code",
     "collapsed": false,
     "input": [
      "cleaned_raw_data = raw_data[raw_data.spam != -1]"
     ],
     "language": "python",
     "metadata": {},
     "outputs": [],
     "prompt_number": 29
    },
    {
     "cell_type": "code",
     "collapsed": false,
     "input": [
      "len(cleaned_raw_data[raw_data.spam == 0])"
     ],
     "language": "python",
     "metadata": {},
     "outputs": [
      {
       "metadata": {},
       "output_type": "pyout",
       "prompt_number": 18,
       "text": [
        "67"
       ]
      }
     ],
     "prompt_number": 18
    },
    {
     "cell_type": "code",
     "collapsed": false,
     "input": [
      "len(cleaned_raw_data[raw_data.spam == 1])"
     ],
     "language": "python",
     "metadata": {},
     "outputs": [
      {
       "metadata": {},
       "output_type": "pyout",
       "prompt_number": 19,
       "text": [
        "648"
       ]
      }
     ],
     "prompt_number": 19
    },
    {
     "cell_type": "code",
     "collapsed": false,
     "input": [
      "import random"
     ],
     "language": "python",
     "metadata": {},
     "outputs": [],
     "prompt_number": 33
    },
    {
     "cell_type": "code",
     "collapsed": false,
     "input": [
      "rows = random.sample(list(cleaned_raw_data.index), 230)\n",
      "df_test = cleaned_raw_data.ix[rows]\n",
      "df_train = cleaned_raw_data.drop(rows)"
     ],
     "language": "python",
     "metadata": {},
     "outputs": [],
     "prompt_number": 44
    },
    {
     "cell_type": "code",
     "collapsed": false,
     "input": [
      "df_train.head()"
     ],
     "language": "python",
     "metadata": {},
     "outputs": [
      {
       "html": [
        "<div style=\"max-height:1000px;max-width:1500px;overflow:auto;\">\n",
        "<table border=\"1\" class=\"dataframe\">\n",
        "  <thead>\n",
        "    <tr style=\"text-align: right;\">\n",
        "      <th></th>\n",
        "      <th>spam</th>\n",
        "      <th>contents</th>\n",
        "    </tr>\n",
        "    <tr>\n",
        "      <th>bid</th>\n",
        "      <th></th>\n",
        "      <th></th>\n",
        "    </tr>\n",
        "  </thead>\n",
        "  <tbody>\n",
        "    <tr>\n",
        "      <th>68858504</th>\n",
        "      <td> 1</td>\n",
        "      <td> Handbags for sale, DKNY bag \u00a345 ONO, DKNY purs...</td>\n",
        "    </tr>\n",
        "    <tr>\n",
        "      <th>68858474</th>\n",
        "      <td> 1</td>\n",
        "      <td> Handbags for sale, DKNY bag \u00a345 ONO, DKNY purs...</td>\n",
        "    </tr>\n",
        "    <tr>\n",
        "      <th>68858473</th>\n",
        "      <td> 1</td>\n",
        "      <td> Handbags for sale, DKNY bag \u00a345 ONO, DKNY purs...</td>\n",
        "    </tr>\n",
        "    <tr>\n",
        "      <th>68858442</th>\n",
        "      <td> 1</td>\n",
        "      <td> Burberry \\\\'Colour Check\\\\' Square Scarf??#If ...</td>\n",
        "    </tr>\n",
        "    <tr>\n",
        "      <th>68858007</th>\n",
        "      <td> 1</td>\n",
        "      <td> Handbags for sale, DKNY bag \u00a345 ONO, DKNY purs...</td>\n",
        "    </tr>\n",
        "  </tbody>\n",
        "</table>\n",
        "</div>"
       ],
       "metadata": {},
       "output_type": "pyout",
       "prompt_number": 45,
       "text": [
        "          spam                                           contents\n",
        "bid                                                              \n",
        "68858504     1  Handbags for sale, DKNY bag \u00a345 ONO, DKNY purs...\n",
        "68858474     1  Handbags for sale, DKNY bag \u00a345 ONO, DKNY purs...\n",
        "68858473     1  Handbags for sale, DKNY bag \u00a345 ONO, DKNY purs...\n",
        "68858442     1  Burberry \\\\'Colour Check\\\\' Square Scarf??#If ...\n",
        "68858007     1  Handbags for sale, DKNY bag \u00a345 ONO, DKNY purs..."
       ]
      }
     ],
     "prompt_number": 45
    },
    {
     "cell_type": "code",
     "collapsed": false,
     "input": [
      "df_test.head()"
     ],
     "language": "python",
     "metadata": {},
     "outputs": [
      {
       "html": [
        "<div style=\"max-height:1000px;max-width:1500px;overflow:auto;\">\n",
        "<table border=\"1\" class=\"dataframe\">\n",
        "  <thead>\n",
        "    <tr style=\"text-align: right;\">\n",
        "      <th></th>\n",
        "      <th>spam</th>\n",
        "      <th>contents</th>\n",
        "    </tr>\n",
        "  </thead>\n",
        "  <tbody>\n",
        "    <tr>\n",
        "      <th>68852259</th>\n",
        "      <td> 1</td>\n",
        "      <td> Burberry Brit Classic Fit Poplin Sport Shirt??...</td>\n",
        "    </tr>\n",
        "    <tr>\n",
        "      <th>68851303</th>\n",
        "      <td> 1</td>\n",
        "      <td> ***** SHARE AND LIKE NOW TO WIN ******??WE HAD...</td>\n",
        "    </tr>\n",
        "    <tr>\n",
        "      <th>68851130</th>\n",
        "      <td> 1</td>\n",
        "      <td> \u672c\u5e97\u51fa\u552e\u591a\u79cd\u56fd\u9645\u54c1\u724c\u7684 1:1 \u548c\u539f\u7248\u76ae\u9ad8\u54c1\u8d28,\u9ad8\u4eff\u5305\u5305,\u94b1\u5305,\u76ae\u5e26,\u5e3d\u5b50...\u7b49\u4ea7\u54c1\u3002??...</td>\n",
        "    </tr>\n",
        "    <tr>\n",
        "      <th>68852868</th>\n",
        "      <td> 1</td>\n",
        "      <td> Supreme red navy fleece pullover sz M \u00a3140 shi...</td>\n",
        "    </tr>\n",
        "    <tr>\n",
        "      <th>17108601</th>\n",
        "      <td> 1</td>\n",
        "      <td> DAYS 94 THROUGH 100 OF BEING THANKFUL 365 DAYS...</td>\n",
        "    </tr>\n",
        "  </tbody>\n",
        "</table>\n",
        "</div>"
       ],
       "metadata": {},
       "output_type": "pyout",
       "prompt_number": 46,
       "text": [
        "          spam                                           contents\n",
        "68852259     1  Burberry Brit Classic Fit Poplin Sport Shirt??...\n",
        "68851303     1  ***** SHARE AND LIKE NOW TO WIN ******??WE HAD...\n",
        "68851130     1  \u672c\u5e97\u51fa\u552e\u591a\u79cd\u56fd\u9645\u54c1\u724c\u7684 1:1 \u548c\u539f\u7248\u76ae\u9ad8\u54c1\u8d28,\u9ad8\u4eff\u5305\u5305,\u94b1\u5305,\u76ae\u5e26,\u5e3d\u5b50...\u7b49\u4ea7\u54c1\u3002??...\n",
        "68852868     1  Supreme red navy fleece pullover sz M \u00a3140 shi...\n",
        "17108601     1  DAYS 94 THROUGH 100 OF BEING THANKFUL 365 DAYS..."
       ]
      }
     ],
     "prompt_number": 46
    },
    {
     "cell_type": "code",
     "collapsed": false,
     "input": [
      "tests = df_test.to_csv()\n",
      "trains = df_train.to_csv()"
     ],
     "language": "python",
     "metadata": {},
     "outputs": [],
     "prompt_number": 77
    },
    {
     "cell_type": "code",
     "collapsed": false,
     "input": [
      "print(tests, file=open(\"spam_test.csv\", \"w+\"))"
     ],
     "language": "python",
     "metadata": {},
     "outputs": [],
     "prompt_number": 83
    },
    {
     "cell_type": "code",
     "collapsed": false,
     "input": [
      "print(trains, file=open(\"spam_train.csv\", \"w+\"))"
     ],
     "language": "python",
     "metadata": {},
     "outputs": [],
     "prompt_number": 82
    },
    {
     "cell_type": "code",
     "collapsed": false,
     "input": [],
     "language": "python",
     "metadata": {},
     "outputs": [],
     "prompt_number": 69
    },
    {
     "cell_type": "code",
     "collapsed": false,
     "input": [],
     "language": "python",
     "metadata": {},
     "outputs": [],
     "prompt_number": 69
    },
    {
     "cell_type": "code",
     "collapsed": false,
     "input": [],
     "language": "python",
     "metadata": {},
     "outputs": [],
     "prompt_number": 69
    },
    {
     "cell_type": "code",
     "collapsed": false,
     "input": [],
     "language": "python",
     "metadata": {},
     "outputs": []
    }
   ],
   "metadata": {}
  }
 ]
}